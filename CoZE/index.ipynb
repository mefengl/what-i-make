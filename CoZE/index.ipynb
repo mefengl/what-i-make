{
 "cells": [
  {
   "cell_type": "code",
   "execution_count": 5,
   "metadata": {},
   "outputs": [],
   "source": [
    "import random\n",
    "import yaml\n",
    "import datetime\n",
    "\n",
    "questions = [\n",
    "    \"有哪些您认为好的或可以接受但您觉得不舒服的事情？\",\n",
    "    \"您过去喜欢但现在不再做的事情是什么？\",\n",
    "    \"有哪些事情你看到别人喜欢，但自己却从不尝试？\",\n",
    "    \"像您这样的人不能做或不允许做的事情是什么？\",\n",
    "    \"您对哪些事情感到好奇，但出于某种原因从未真正探索过？\",\n",
    "    \"除了您认为社会或多或少不赞成您做的事情之外，您想做什么？\",\n",
    "    \"有哪些与您的身份或自我形象相反但您仍然想尝试的事情？\",\n",
    "    \"您认为所有人都应该自由地做哪些事情，但您个人却不这样做？\",\n",
    "    \"[特定的人非常不像你]做了什么？\",\n",
    "    \"有什么事情是你试过一次就真的错了，所以你再也没有试过？\",\n",
    "    \"有什么东西让你着迷，但又害怕？\"\n",
    "]\n",
    "\n",
    "random_questions = random.sample(questions, 3)\n",
    "answers = {}\n",
    "\n",
    "# Add date and time to the answers dictionary\n",
    "now = datetime.datetime.now()\n",
    "date = now.strftime(\"%Y-%m-%d\")\n",
    "answers[date] = {}\n",
    "\n",
    "for question in random_questions:\n",
    "    answer = input(question)\n",
    "    answers[date][question] = answer\n",
    "\n",
    "# Write the answers to a YAML file\n",
    "with open('answers.yaml', 'a', encoding='utf-8') as f:\n",
    "    yaml.dump(answers, f, allow_unicode=True)"
   ]
  }
 ],
 "metadata": {
  "kernelspec": {
   "display_name": "Python 3",
   "language": "python",
   "name": "python3"
  },
  "language_info": {
   "codemirror_mode": {
    "name": "ipython",
    "version": 3
   },
   "file_extension": ".py",
   "mimetype": "text/x-python",
   "name": "python",
   "nbconvert_exporter": "python",
   "pygments_lexer": "ipython3",
   "version": "3.10.10"
  },
  "orig_nbformat": 4
 },
 "nbformat": 4,
 "nbformat_minor": 2
}
